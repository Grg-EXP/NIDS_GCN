{
 "cells": [
  {
   "cell_type": "markdown",
   "id": "fec9c7b2",
   "metadata": {},
   "source": [
    "# Requirements"
   ]
  },
  {
   "cell_type": "code",
   "execution_count": 1,
   "id": "93aad85f",
   "metadata": {},
   "outputs": [],
   "source": [
    "from torch_geometric.data import Data, DataLoader\n",
    "from torch_geometric.datasets import TUDataset, Planetoid\n",
    "from torch_geometric.nn import GCNConv, Set2Set, GNNExplainer\n",
    "import torch_geometric.transforms as T\n",
    "import torch\n",
    "import torch.nn\n",
    "import torch.nn.functional as F\n",
    "import os\n",
    "from tqdm import tqdm, trange\n",
    "from torch_geometric.utils.convert import from_networkx\n",
    "from sklearn.model_selection import train_test_split\n",
    "import networkx as nx\n",
    "import numpy as np\n",
    "import pandas as pd\n",
    "import random\n",
    "from sklearn.preprocessing import StandardScaler\n",
    "import torch_geometric.utils.convert\n",
    "from torch_geometric.utils.convert import from_networkx\n",
    "import networkx as nx\n",
    "import matplotlib.pyplot as plt\n",
    "import category_encoders as ce\n",
    "import matplotlib as mpl\n",
    "mpl.rcParams['figure.dpi'] = 300 "
   ]
  },
  {
   "cell_type": "markdown",
   "id": "6e1db5fa",
   "metadata": {},
   "source": [
    "# Data pre-processing"
   ]
  },
  {
   "cell_type": "code",
   "execution_count": 2,
   "id": "b032b9de",
   "metadata": {},
   "outputs": [],
   "source": [
    "filename = \"NF-ToN-IoT.csv\"\n",
    "dataPS = pd.read_csv(filename)"
   ]
  },
  {
   "cell_type": "code",
   "execution_count": 3,
   "id": "e9cd89e2",
   "metadata": {},
   "outputs": [
    {
     "name": "stdout",
     "output_type": "stream",
     "text": [
      "number of begnin connections: 270279\n",
      "number of maliciouse connections: 1108995\n"
     ]
    }
   ],
   "source": [
    "print(\"number of begnin connections: \" + str(dataPS[dataPS['Label'] == 0].shape[0]))\n",
    "print(\"number of maliciouse connections: \" + str(dataPS[dataPS['Label'] == 1].shape[0]))"
   ]
  },
  {
   "cell_type": "code",
   "execution_count": 4,
   "id": "9bead5c2",
   "metadata": {},
   "outputs": [],
   "source": [
    "data0 = dataPS[dataPS['Label'] == 0].sample(frac=1)\n",
    "data1 = dataPS[dataPS['Label'] == 1].sample(frac=1)"
   ]
  },
  {
   "cell_type": "code",
   "execution_count": 5,
   "id": "52ce4160",
   "metadata": {},
   "outputs": [],
   "source": [
    "data0_split = np.array_split(data0, 4)\n",
    "data1_split = np.array_split(data1, 15)"
   ]
  },
  {
   "cell_type": "markdown",
   "id": "087caa80",
   "metadata": {},
   "source": [
    "# Statistical Comparisons of Classifiers with PAIRED T-TEST\n",
    "\n",
    "chunk 0:  0.4\n",
    "Precision: 0.9991\n",
    "Recall: 0.9904\n",
    "Accuracy: 0.9952\n",
    "F1 Score: 0.9947\n",
    "    \n",
    "chunk 1:  0.4\n",
    "Precision: 0.9837\n",
    "Recall: 0.9931\n",
    "Accuracy: 0.9872\n",
    "F1 Score: 0.9884\n",
    "\n",
    "chunk 2: 0.4\n",
    "Precision: 0.9985\n",
    "Recall: 0.9878\n",
    "Accuracy: 0.9938\n",
    "F1 Score: 0.9931\n",
    "\n",
    "chunk 3: 0.6\n",
    "Precision: 0.9894\n",
    "Recall: 0.9997\n",
    "Accuracy: 0.9951\n",
    "F1 Score: 0.9946\n",
    "\n",
    "chunk 4: 0.2\n",
    "Precision: 0.9994\n",
    "Recall: 0.9932\n",
    "Accuracy: 0.9966\n",
    "F1 Score: 0.9963\n",
    "\n",
    "chunk 5: 0.2\n",
    "Precision: 0.9994\n",
    "Recall: 0.9922\n",
    "Accuracy: 0.9962\n",
    "F1 Score: 0.9958\n",
    "\n",
    "chunk 6:\n",
    "Precision: 0.9992\n",
    "Recall: 0.9899\n",
    "Accuracy: 0.9951\n",
    "F1 Score: 0.9946\n",
    "\n",
    "chunk 7, if a sample has a unce>30% put it in the malicious one:\n",
    "Precision: 0.8993\n",
    "Recall: 1.0000\n",
    "Accuracy: 0.9494\n",
    "F1 Score: 0.9470\n",
    "\n"
   ]
  },
  {
   "cell_type": "code",
   "execution_count": 6,
   "id": "2f79dac7",
   "metadata": {},
   "outputs": [],
   "source": [
    "chunk=6\n",
    "nodes_percentages=0.4\n",
    "dataPSA = pd.concat([data0_split[int(chunk/3)], data1_split[chunk]], ignore_index=True)"
   ]
  },
  {
   "cell_type": "code",
   "execution_count": 7,
   "id": "993fc668",
   "metadata": {},
   "outputs": [],
   "source": [
    "\n",
    "dataPSA['IPV4_SRC_ADDR'] = dataPSA.IPV4_SRC_ADDR.apply(str)\n",
    "dataPSA['L4_SRC_PORT'] = dataPSA.L4_SRC_PORT.apply(str)\n",
    "dataPSA['IPV4_DST_ADDR'] = dataPSA.IPV4_DST_ADDR.apply(str)\n",
    "dataPSA['L4_DST_PORT'] = dataPSA.L4_DST_PORT.apply(str)\n",
    "\n",
    "#dataPSA[\"id\"]=dataPSA.index.tolist()\n",
    "#dataPSA[\"id\"]=dataPSA.id.apply(str)\n",
    "\n",
    "dataPSA['IPV4_SRC'] = dataPSA['IPV4_SRC_ADDR'].apply(lambda x: int(x.split('.')[0]))##############\n",
    "dataPSA['IPV4_DST'] = dataPSA['IPV4_DST_ADDR'].apply(lambda x: int(x.split('.')[0]))##############\n",
    "\n",
    "dataPSA['IPV4_SRC_ADDR'] = dataPSA['IPV4_SRC_ADDR'] + ':' + dataPSA['L4_SRC_PORT'] # + ':' + dataPSA[\"id\"]\n",
    "dataPSA['IPV4_DST_ADDR'] = dataPSA['IPV4_DST_ADDR'] + ':' + dataPSA['L4_DST_PORT'] # + ':' + dataPSA[\"id\"]\n",
    "#dataPSA.drop(columns=['L4_SRC_PORT','L4_DST_PORT'],inplace=True)\n",
    "\n",
    "dataPSA.rename(columns={\"Label\": \"label\"},inplace = True)\n",
    "label=dataPSA.label\n",
    "\n",
    "dataPSA.drop(columns=['Attack','label'],inplace = True)\n",
    "#dataPSA.drop(columns=['id'],inplace = True)\n",
    "\n",
    "\n",
    "cols_to_norm =  list(set(list(dataPSA.iloc[:,:].columns ))  - set(list(['label','IPV4_DST_ADDR','IPV4_SRC_ADDR',])) )\n",
    "#cols_to_norm= list([ 'L4_SRC_PORT', 'L4_DST_PORT','PROTOCOL', 'L7_PROTO', 'IN_BYTES', 'OUT_BYTES', 'IN_PKTS', 'OUT_PKTS','TCP_FLAGS', 'FLOW_DURATION_MILLISECONDS' ])\n",
    "scaler = StandardScaler()\n",
    "dataPSA[cols_to_norm] = scaler.fit_transform(dataPSA[cols_to_norm])\n",
    "\n",
    "data=  dataPSA\n",
    "data['x'] = data[ cols_to_norm ].values.tolist()\n",
    "data['y']= label\n",
    "#data = data.sample(frac=1)"
   ]
  },
  {
   "cell_type": "code",
   "execution_count": 8,
   "id": "fca3fb30",
   "metadata": {},
   "outputs": [
    {
     "data": {
      "text/html": [
       "<div>\n",
       "<style scoped>\n",
       "    .dataframe tbody tr th:only-of-type {\n",
       "        vertical-align: middle;\n",
       "    }\n",
       "\n",
       "    .dataframe tbody tr th {\n",
       "        vertical-align: top;\n",
       "    }\n",
       "\n",
       "    .dataframe thead th {\n",
       "        text-align: right;\n",
       "    }\n",
       "</style>\n",
       "<table border=\"1\" class=\"dataframe\">\n",
       "  <thead>\n",
       "    <tr style=\"text-align: right;\">\n",
       "      <th></th>\n",
       "      <th>IPV4_SRC_ADDR</th>\n",
       "      <th>L4_SRC_PORT</th>\n",
       "      <th>IPV4_DST_ADDR</th>\n",
       "      <th>L4_DST_PORT</th>\n",
       "      <th>PROTOCOL</th>\n",
       "      <th>L7_PROTO</th>\n",
       "      <th>IN_BYTES</th>\n",
       "      <th>OUT_BYTES</th>\n",
       "      <th>IN_PKTS</th>\n",
       "      <th>OUT_PKTS</th>\n",
       "      <th>TCP_FLAGS</th>\n",
       "      <th>FLOW_DURATION_MILLISECONDS</th>\n",
       "      <th>IPV4_SRC</th>\n",
       "      <th>IPV4_DST</th>\n",
       "      <th>x</th>\n",
       "      <th>y</th>\n",
       "    </tr>\n",
       "  </thead>\n",
       "  <tbody>\n",
       "    <tr>\n",
       "      <th>0</th>\n",
       "      <td>192.168.1.195:65011</td>\n",
       "      <td>1.431341</td>\n",
       "      <td>192.168.1.1:49152</td>\n",
       "      <td>1.269634</td>\n",
       "      <td>-0.393622</td>\n",
       "      <td>-0.791700</td>\n",
       "      <td>-0.009166</td>\n",
       "      <td>-0.010213</td>\n",
       "      <td>-0.007134</td>\n",
       "      <td>-0.007685</td>\n",
       "      <td>0.900240</td>\n",
       "      <td>-0.083907</td>\n",
       "      <td>0.093295</td>\n",
       "      <td>0.178983</td>\n",
       "      <td>[-0.01021330677772264, 0.9002397054057473, 0.1...</td>\n",
       "      <td>0</td>\n",
       "    </tr>\n",
       "    <tr>\n",
       "      <th>1</th>\n",
       "      <td>192.168.1.180:55587</td>\n",
       "      <td>1.039192</td>\n",
       "      <td>192.168.1.190:53</td>\n",
       "      <td>-0.831729</td>\n",
       "      <td>2.324005</td>\n",
       "      <td>-0.834485</td>\n",
       "      <td>-0.009449</td>\n",
       "      <td>-0.013734</td>\n",
       "      <td>-0.007456</td>\n",
       "      <td>-0.008696</td>\n",
       "      <td>-1.995955</td>\n",
       "      <td>-0.083950</td>\n",
       "      <td>0.093295</td>\n",
       "      <td>0.178983</td>\n",
       "      <td>[-0.013733961483097142, -1.9959551696038476, 0...</td>\n",
       "      <td>0</td>\n",
       "    </tr>\n",
       "    <tr>\n",
       "      <th>2</th>\n",
       "      <td>192.168.1.184:443</td>\n",
       "      <td>-1.255444</td>\n",
       "      <td>192.168.1.30:41500</td>\n",
       "      <td>0.942140</td>\n",
       "      <td>-0.393622</td>\n",
       "      <td>1.005248</td>\n",
       "      <td>-0.010181</td>\n",
       "      <td>-0.015712</td>\n",
       "      <td>-0.007778</td>\n",
       "      <td>-0.009707</td>\n",
       "      <td>-0.172425</td>\n",
       "      <td>-0.083744</td>\n",
       "      <td>0.093295</td>\n",
       "      <td>0.178983</td>\n",
       "      <td>[-0.01571164268801579, -0.17242506311632488, 0...</td>\n",
       "      <td>0</td>\n",
       "    </tr>\n",
       "    <tr>\n",
       "      <th>3</th>\n",
       "      <td>192.168.1.152:80</td>\n",
       "      <td>-1.270549</td>\n",
       "      <td>192.168.1.31:39042</td>\n",
       "      <td>0.836941</td>\n",
       "      <td>-0.393622</td>\n",
       "      <td>-0.791700</td>\n",
       "      <td>-0.010181</td>\n",
       "      <td>-0.015960</td>\n",
       "      <td>-0.007778</td>\n",
       "      <td>-0.010212</td>\n",
       "      <td>-0.172425</td>\n",
       "      <td>-0.083950</td>\n",
       "      <td>0.093295</td>\n",
       "      <td>0.178983</td>\n",
       "      <td>[-0.01596004709056596, -0.17242506311632488, 0...</td>\n",
       "      <td>0</td>\n",
       "    </tr>\n",
       "    <tr>\n",
       "      <th>4</th>\n",
       "      <td>192.168.1.190:34291</td>\n",
       "      <td>0.153029</td>\n",
       "      <td>208.84.2.53:53</td>\n",
       "      <td>-0.831729</td>\n",
       "      <td>2.324005</td>\n",
       "      <td>-0.834485</td>\n",
       "      <td>-0.010106</td>\n",
       "      <td>-0.015587</td>\n",
       "      <td>-0.007778</td>\n",
       "      <td>-0.009707</td>\n",
       "      <td>-1.995955</td>\n",
       "      <td>-0.083897</td>\n",
       "      <td>0.093295</td>\n",
       "      <td>0.613666</td>\n",
       "      <td>[-0.015587440486740706, -1.9959551696038476, 0...</td>\n",
       "      <td>0</td>\n",
       "    </tr>\n",
       "    <tr>\n",
       "      <th>...</th>\n",
       "      <td>...</td>\n",
       "      <td>...</td>\n",
       "      <td>...</td>\n",
       "      <td>...</td>\n",
       "      <td>...</td>\n",
       "      <td>...</td>\n",
       "      <td>...</td>\n",
       "      <td>...</td>\n",
       "      <td>...</td>\n",
       "      <td>...</td>\n",
       "      <td>...</td>\n",
       "      <td>...</td>\n",
       "      <td>...</td>\n",
       "      <td>...</td>\n",
       "      <td>...</td>\n",
       "      <td>...</td>\n",
       "    </tr>\n",
       "    <tr>\n",
       "      <th>123015</th>\n",
       "      <td>192.168.1.35:35336</td>\n",
       "      <td>0.196513</td>\n",
       "      <td>192.168.1.190:80</td>\n",
       "      <td>-0.830574</td>\n",
       "      <td>-0.393622</td>\n",
       "      <td>-0.791700</td>\n",
       "      <td>-0.008770</td>\n",
       "      <td>-0.005264</td>\n",
       "      <td>-0.007134</td>\n",
       "      <td>-0.007179</td>\n",
       "      <td>0.900240</td>\n",
       "      <td>-0.083739</td>\n",
       "      <td>0.093295</td>\n",
       "      <td>0.178983</td>\n",
       "      <td>[-0.005264326757684671, 0.9002397054057473, 0....</td>\n",
       "      <td>1</td>\n",
       "    </tr>\n",
       "    <tr>\n",
       "      <th>123016</th>\n",
       "      <td>192.168.1.36:47250</td>\n",
       "      <td>0.692275</td>\n",
       "      <td>52.59.177.21:80</td>\n",
       "      <td>-0.830574</td>\n",
       "      <td>-0.393622</td>\n",
       "      <td>-0.787893</td>\n",
       "      <td>-0.007974</td>\n",
       "      <td>0.045506</td>\n",
       "      <td>-0.006974</td>\n",
       "      <td>-0.003641</td>\n",
       "      <td>0.900240</td>\n",
       "      <td>-0.075893</td>\n",
       "      <td>0.093295</td>\n",
       "      <td>-3.624494</td>\n",
       "      <td>[0.04550571151737667, 0.9002397054057473, -3.6...</td>\n",
       "      <td>1</td>\n",
       "    </tr>\n",
       "    <tr>\n",
       "      <th>123017</th>\n",
       "      <td>192.168.1.36:60096</td>\n",
       "      <td>1.226819</td>\n",
       "      <td>192.168.1.190:80</td>\n",
       "      <td>-0.830574</td>\n",
       "      <td>-0.393622</td>\n",
       "      <td>-0.791700</td>\n",
       "      <td>-0.008787</td>\n",
       "      <td>-0.005264</td>\n",
       "      <td>-0.007134</td>\n",
       "      <td>-0.007179</td>\n",
       "      <td>0.900240</td>\n",
       "      <td>-0.082511</td>\n",
       "      <td>0.093295</td>\n",
       "      <td>0.178983</td>\n",
       "      <td>[-0.005264326757684671, 0.9002397054057473, 0....</td>\n",
       "      <td>1</td>\n",
       "    </tr>\n",
       "    <tr>\n",
       "      <th>123018</th>\n",
       "      <td>192.168.1.30:41636</td>\n",
       "      <td>0.458667</td>\n",
       "      <td>192.168.1.184:443</td>\n",
       "      <td>-0.815038</td>\n",
       "      <td>-0.393622</td>\n",
       "      <td>1.005248</td>\n",
       "      <td>-0.010008</td>\n",
       "      <td>-0.015673</td>\n",
       "      <td>-0.007617</td>\n",
       "      <td>-0.009707</td>\n",
       "      <td>-0.065159</td>\n",
       "      <td>-0.083950</td>\n",
       "      <td>0.093295</td>\n",
       "      <td>0.178983</td>\n",
       "      <td>[-0.015673426626084994, -0.06515858626411766, ...</td>\n",
       "      <td>1</td>\n",
       "    </tr>\n",
       "    <tr>\n",
       "      <th>123019</th>\n",
       "      <td>192.168.1.30:46672</td>\n",
       "      <td>0.668224</td>\n",
       "      <td>192.168.1.184:443</td>\n",
       "      <td>-0.815038</td>\n",
       "      <td>-0.393622</td>\n",
       "      <td>1.005248</td>\n",
       "      <td>-0.010008</td>\n",
       "      <td>-0.015673</td>\n",
       "      <td>-0.007617</td>\n",
       "      <td>-0.009707</td>\n",
       "      <td>-0.065159</td>\n",
       "      <td>-0.083950</td>\n",
       "      <td>0.093295</td>\n",
       "      <td>0.178983</td>\n",
       "      <td>[-0.015673426626084994, -0.06515858626411766, ...</td>\n",
       "      <td>1</td>\n",
       "    </tr>\n",
       "  </tbody>\n",
       "</table>\n",
       "<p>123020 rows × 16 columns</p>\n",
       "</div>"
      ],
      "text/plain": [
       "              IPV4_SRC_ADDR  L4_SRC_PORT       IPV4_DST_ADDR  L4_DST_PORT  \\\n",
       "0       192.168.1.195:65011     1.431341   192.168.1.1:49152     1.269634   \n",
       "1       192.168.1.180:55587     1.039192    192.168.1.190:53    -0.831729   \n",
       "2         192.168.1.184:443    -1.255444  192.168.1.30:41500     0.942140   \n",
       "3          192.168.1.152:80    -1.270549  192.168.1.31:39042     0.836941   \n",
       "4       192.168.1.190:34291     0.153029      208.84.2.53:53    -0.831729   \n",
       "...                     ...          ...                 ...          ...   \n",
       "123015   192.168.1.35:35336     0.196513    192.168.1.190:80    -0.830574   \n",
       "123016   192.168.1.36:47250     0.692275     52.59.177.21:80    -0.830574   \n",
       "123017   192.168.1.36:60096     1.226819    192.168.1.190:80    -0.830574   \n",
       "123018   192.168.1.30:41636     0.458667   192.168.1.184:443    -0.815038   \n",
       "123019   192.168.1.30:46672     0.668224   192.168.1.184:443    -0.815038   \n",
       "\n",
       "        PROTOCOL  L7_PROTO  IN_BYTES  OUT_BYTES   IN_PKTS  OUT_PKTS  \\\n",
       "0      -0.393622 -0.791700 -0.009166  -0.010213 -0.007134 -0.007685   \n",
       "1       2.324005 -0.834485 -0.009449  -0.013734 -0.007456 -0.008696   \n",
       "2      -0.393622  1.005248 -0.010181  -0.015712 -0.007778 -0.009707   \n",
       "3      -0.393622 -0.791700 -0.010181  -0.015960 -0.007778 -0.010212   \n",
       "4       2.324005 -0.834485 -0.010106  -0.015587 -0.007778 -0.009707   \n",
       "...          ...       ...       ...        ...       ...       ...   \n",
       "123015 -0.393622 -0.791700 -0.008770  -0.005264 -0.007134 -0.007179   \n",
       "123016 -0.393622 -0.787893 -0.007974   0.045506 -0.006974 -0.003641   \n",
       "123017 -0.393622 -0.791700 -0.008787  -0.005264 -0.007134 -0.007179   \n",
       "123018 -0.393622  1.005248 -0.010008  -0.015673 -0.007617 -0.009707   \n",
       "123019 -0.393622  1.005248 -0.010008  -0.015673 -0.007617 -0.009707   \n",
       "\n",
       "        TCP_FLAGS  FLOW_DURATION_MILLISECONDS  IPV4_SRC  IPV4_DST  \\\n",
       "0        0.900240                   -0.083907  0.093295  0.178983   \n",
       "1       -1.995955                   -0.083950  0.093295  0.178983   \n",
       "2       -0.172425                   -0.083744  0.093295  0.178983   \n",
       "3       -0.172425                   -0.083950  0.093295  0.178983   \n",
       "4       -1.995955                   -0.083897  0.093295  0.613666   \n",
       "...           ...                         ...       ...       ...   \n",
       "123015   0.900240                   -0.083739  0.093295  0.178983   \n",
       "123016   0.900240                   -0.075893  0.093295 -3.624494   \n",
       "123017   0.900240                   -0.082511  0.093295  0.178983   \n",
       "123018  -0.065159                   -0.083950  0.093295  0.178983   \n",
       "123019  -0.065159                   -0.083950  0.093295  0.178983   \n",
       "\n",
       "                                                        x  y  \n",
       "0       [-0.01021330677772264, 0.9002397054057473, 0.1...  0  \n",
       "1       [-0.013733961483097142, -1.9959551696038476, 0...  0  \n",
       "2       [-0.01571164268801579, -0.17242506311632488, 0...  0  \n",
       "3       [-0.01596004709056596, -0.17242506311632488, 0...  0  \n",
       "4       [-0.015587440486740706, -1.9959551696038476, 0...  0  \n",
       "...                                                   ... ..  \n",
       "123015  [-0.005264326757684671, 0.9002397054057473, 0....  1  \n",
       "123016  [0.04550571151737667, 0.9002397054057473, -3.6...  1  \n",
       "123017  [-0.005264326757684671, 0.9002397054057473, 0....  1  \n",
       "123018  [-0.015673426626084994, -0.06515858626411766, ...  1  \n",
       "123019  [-0.015673426626084994, -0.06515858626411766, ...  1  \n",
       "\n",
       "[123020 rows x 16 columns]"
      ]
     },
     "execution_count": 8,
     "metadata": {},
     "output_type": "execute_result"
    }
   ],
   "source": [
    "data"
   ]
  },
  {
   "cell_type": "code",
   "execution_count": 9,
   "id": "089234ef",
   "metadata": {},
   "outputs": [],
   "source": [
    "X_train=data\n",
    "y_train=label"
   ]
  },
  {
   "cell_type": "markdown",
   "id": "c973087d",
   "metadata": {},
   "source": [
    "# Graph Construction"
   ]
  },
  {
   "cell_type": "code",
   "execution_count": 11,
   "id": "ecd4e8f0",
   "metadata": {},
   "outputs": [],
   "source": [
    "class CreateGraphStructures:\n",
    "    def __init__(self, dataframe,subnet,inject_anomaly=False):\n",
    "        self.data = dataframe  \n",
    "        self.n_subnet = min(subnet,(len(dataframe)-1))     \n",
    "        self.MG=nx.MultiGraph()    \n",
    "        self.add_nodes()\n",
    "        self.add_edges()\n",
    "        if inject_anomaly:\n",
    "            self.add_anomaly()\n",
    "        self.MG=self.MG.to_directed()\n",
    "        self.pyg_graph = torch_geometric.utils.convert.from_networkx(self.MG)\n",
    "        self.g= torch_geometric.utils.to_networkx(self.pyg_graph)\n",
    "        \n",
    "    def get_pyg_graphh(self,):\n",
    "        return self.pyg_graph        \n",
    "        \n",
    "    def get_NetworkX(self):\n",
    "        return self.MG      \n",
    "    \n",
    "    def get_g(self):\n",
    "        return self.g\n",
    "    \n",
    "    def add_anomaly(self):\n",
    "        source_list = self.data['IPV4_SRC_ADDR'].to_list()\n",
    "        destination_list = self.data['IPV4_DST_ADDR'].to_list()\n",
    "        nodes_features = self.data['x'].to_list()\n",
    "        labels = self.data['y'].to_list()\n",
    "        index_list = self.data.index.to_list()\n",
    "        \n",
    "        for s1,d1, xr, yr, index1  in zip(source_list,destination_list,nodes_features,labels,index_list):\n",
    "            comm= str(s1)+str('-')+str(d1)+str('-')+str(index1)\n",
    "            self.MG.add_node(comm, x=xr*15, y = 1)\n",
    "            break\n",
    "    \n",
    "    def add_nodes(self):\n",
    "        i=0\n",
    "        source_list = self.data['IPV4_SRC_ADDR'].to_list()\n",
    "        destination_list = self.data['IPV4_DST_ADDR'].to_list()\n",
    "        nodes_features = self.data['x'].to_list()\n",
    "        labels = self.data['y'].to_list()\n",
    "        index_list = self.data.index.to_list()\n",
    "        \n",
    "        for s1,d1, xr, yr, index1  in zip(source_list,destination_list,nodes_features,labels,index_list):\n",
    "            i+=1\n",
    "            b=str(i)+\"/\"+str(len(self.data))\n",
    "            comm= str(s1)+str('-')+str(d1)+str('-')+str(index1)\n",
    "            self.MG.add_node(comm, x=xr, y = yr) \n",
    "            \n",
    "   \n",
    "    def add_edges(self):\n",
    "        i=0\n",
    "        source_list = self.data['IPV4_SRC_ADDR'].to_list()\n",
    "        destination_list = self.data['IPV4_DST_ADDR'].to_list()\n",
    "        nodes_features = self.data['x'].to_list()\n",
    "        labels = self.data['y'].to_list(),self.data.index.to_list()\n",
    "        index_list = self.data.index.to_list()\n",
    "\n",
    "        for s1,d1, index1 in zip(source_list, destination_list, index_list):      \n",
    "            i+=1\n",
    "            b=str(i)+\"/\"+str(len(self.data))\n",
    "            print(b, end=\"\\r\")\n",
    "            comm= str(s1)+str('-')+str(d1)+str('-')+str(index1)\n",
    "            subdata=self.data.iloc[index1: , :]\n",
    "            source2_list = subdata['IPV4_SRC_ADDR'].to_list()\n",
    "            destination2_list = subdata['IPV4_DST_ADDR'].to_list()\n",
    "            index2_list = subdata.index.to_list()\n",
    "            bound=0\n",
    "            for s2,d2, index2  in zip(source2_list,destination2_list,index2_list):\n",
    "                comm2= str(s2)+str('-')+str(d2)+str('-')+str(index2)\n",
    "                if (s1.split(':')[0] in list([s2.split(':')[0],d2.split(':')[0]])) or (d1.split(':')[0] in list([s2.split(':')[0],d2.split('.')[0]])):                    \n",
    "                    if not (self.MG.has_edge(comm, comm2)) and not (comm==comm2) :\n",
    "                        self.MG.add_edge(comm,comm2)\n",
    "                        bound+=1\n",
    "                if bound > self.n_subnet:\n",
    "                    break    "
   ]
  },
  {
   "cell_type": "code",
   "execution_count": 12,
   "id": "d9ff2ba0",
   "metadata": {},
   "outputs": [],
   "source": [
    "def DrawGraph(G):\n",
    "    from matplotlib.pyplot import figure\n",
    "\n",
    "    figure(figsize=(10, 10), dpi=80)\n",
    "\n",
    "    nx.draw(G, with_labels=True, pos=nx.circular_layout(G),node_size=1, node_color=\"skyblue\", node_shape=\"s\", alpha=0.5, linewidths=40)\n"
   ]
  },
  {
   "cell_type": "code",
   "execution_count": 13,
   "id": "7b783909",
   "metadata": {},
   "outputs": [
    {
     "name": "stdout",
     "output_type": "stream",
     "text": [
      "123020/123020\r"
     ]
    }
   ],
   "source": [
    "dataGraph= CreateGraphStructures(X_train,2)\n"
   ]
  },
  {
   "cell_type": "code",
   "execution_count": 14,
   "id": "05b9487b",
   "metadata": {},
   "outputs": [
    {
     "name": "stdout",
     "output_type": "stream",
     "text": [
      "Data(x=[123020, 12], edge_index=[2, 737934], y=[123020])\n",
      "MultiDiGraph with 123020 nodes and 737934 edges\n",
      "DiGraph with 123020 nodes and 737934 edges\n"
     ]
    }
   ],
   "source": [
    "print(dataGraph.get_pyg_graphh())\n",
    "print(dataGraph.get_NetworkX())  \n",
    "print(dataGraph.get_g())        \n"
   ]
  },
  {
   "cell_type": "code",
   "execution_count": 15,
   "id": "822e51b6",
   "metadata": {},
   "outputs": [],
   "source": [
    "#DrawGraph(dataGraph.get_NetworkX())"
   ]
  },
  {
   "cell_type": "code",
   "execution_count": 16,
   "id": "0d64f799",
   "metadata": {},
   "outputs": [],
   "source": [
    "#DrawGraph(dataGraph.get_g())"
   ]
  },
  {
   "cell_type": "code",
   "execution_count": 17,
   "id": "96b43bf7",
   "metadata": {},
   "outputs": [],
   "source": [
    "train_dataset=dataGraph.get_pyg_graphh()\n",
    "#test_dataset=dataTestGraph.get_pyg_graphh()"
   ]
  },
  {
   "cell_type": "code",
   "execution_count": 18,
   "id": "88800ffe",
   "metadata": {},
   "outputs": [],
   "source": [
    "device = torch.device('cuda' if torch.cuda.is_available() else 'cpu')\n",
    "train_dataset=train_dataset.to(device)\n",
    "\n",
    "\n"
   ]
  },
  {
   "cell_type": "code",
   "execution_count": 19,
   "id": "55f5a2dc",
   "metadata": {},
   "outputs": [],
   "source": [
    "# create subsets of labeled or unlabeled nodes\n",
    "n_traindata=round(train_dataset.num_nodes*nodes_percentages)\n",
    "\n",
    "r_indeces = random.sample(range(1, train_dataset.num_nodes), n_traindata)\n",
    "\n",
    "train_dataset.train_mask = torch.zeros(train_dataset.num_nodes, dtype=torch.bool)\n",
    "train_dataset.test_mask = torch.ones(train_dataset.num_nodes, dtype=torch.bool)\n",
    "\n",
    "r_indeces = random.sample(range(1, train_dataset.num_nodes), n_traindata)\n",
    "for i in r_indeces:\n",
    "    train_dataset.train_mask[i] = 1\n",
    "    train_dataset.test_mask[i] = 0\n",
    "    \n"
   ]
  },
  {
   "cell_type": "markdown",
   "id": "cbb6b44f",
   "metadata": {},
   "source": [
    "# Network"
   ]
  },
  {
   "cell_type": "code",
   "execution_count": 20,
   "id": "063a37a1",
   "metadata": {},
   "outputs": [],
   "source": [
    "class Net(torch.nn.Module):\n",
    "    def __init__(self, num_features, dim, num_classes=2):\n",
    "        super(Net, self).__init__()\n",
    "        self.GCN1 = GCNConv(num_features, dim, add_self_loops = True )\n",
    "        self.GCN2 = GCNConv(dim, 2, add_self_loops = True) ## vedere di inserire edge_weight via the optional edge_weight tensor \n",
    "\n",
    "    def forward(self, x, edge_index):\n",
    "        x = F.relu(self.GCN1(x, edge_index))\n",
    "        x = F.dropout(x, training=self.training)\n",
    "        x = self.GCN2(x, edge_index)\n",
    "        return F.relu(x)\n",
    "        #return F.log_softmax(x, dim=1) ## cambiare l'attivazione da soft a relu, l'output saranno  due valori con due valori i due parametri della relu.\n",
    "                                        # vedere cosa succede nel caso di un graph nerual netwokr con questa loss function\n",
    "                                        # devono uscire come valori 1 e 1 nel caso di anomaly.\n",
    "                                        # introrrre graph neural network\n",
    "                                        # introddurre la loss function,\n",
    "                                        # introdurre i dataset.\n",
    "                                        # entro il 15 e il19 mandare la bozza\n",
    "                                        # ho piu codice di esempi, è abbastanza semplice da modificare.\n",
    "                                        # graphGNN da tenere come punto di partenza con GraphSAGE per fare vedere che non cambi nulli\n",
    "                                    \n",
    "                                        # analisi sperimentale"
   ]
  },
  {
   "cell_type": "markdown",
   "id": "b40839d9",
   "metadata": {},
   "source": [
    "# Utils"
   ]
  },
  {
   "cell_type": "code",
   "execution_count": 21,
   "id": "5f6d5007",
   "metadata": {},
   "outputs": [],
   "source": [
    "def compute_uncertainty_mass_vector(num_classes, prediction):\n",
    "    evidence = relu_evidence(prediction)\n",
    "    alpha = evidence + 1\n",
    "    \n",
    "    return num_classes / torch.sum(alpha, dim=1, keepdim=True)\n",
    "    \n",
    "def compute_belief_mass_vector(prediction):\n",
    "    evidence = relu_evidence(prediction)\n",
    "    alpha = evidence + 1\n",
    "    \n",
    "    return evidence/ torch.sum(alpha, dim=1, keepdim=True)\n"
   ]
  },
  {
   "cell_type": "code",
   "execution_count": 1,
   "id": "d028ab7d",
   "metadata": {},
   "outputs": [],
   "source": [
    "\n",
    "def compute_performance(model, data, limit_uncertainty=100):    \n",
    "    model.eval()\n",
    "    prediction = model(data.x, data.edge_index)\n",
    "    total_predition= prediction.max(1)[1]\n",
    "    outputs = prediction[train_dataset.test_mask]\n",
    "    pred = prediction[train_dataset.test_mask].max(1)[1]\n",
    "    y_test = train_dataset.y[train_dataset.test_mask]\n",
    "    num_classes=2\n",
    "    uncertainty_mass_test_vector = []\n",
    "    belief_mass_test_vector = []\n",
    "    uncertainty_mass_test_vector = compute_uncertainty_mass_vector(num_classes, outputs)\n",
    "    belief_mass_test_vector = compute_belief_mass_vector(outputs)\n",
    "    \n",
    "    total_uncertainty_mass_vector = compute_uncertainty_mass_vector(num_classes, prediction)\n",
    "    total_belief_mass_vector = compute_belief_mass_vector(prediction)\n",
    " \n",
    "    tp = 0\n",
    "    fp = 0\n",
    "    tn = 0\n",
    "    fn = 0\n",
    "    n_uncertainty = 0\n",
    "    tp_bf = []\n",
    "    fp_bf = []\n",
    "    tn_bf = []\n",
    "    fn_bf = []\n",
    "    tp_u = []\n",
    "    fp_u = []\n",
    "    tn_u = []\n",
    "    fn_u = []\n",
    "    for (prediction, gt, bf, u) in zip(pred, y_test, belief_mass_test_vector.tolist(), uncertainty_mass_test_vector.tolist()):\n",
    "        if u[0] <limit_uncertainty:\n",
    "            if gt==1:\n",
    "                if prediction == gt:\n",
    "                    tp += 1\n",
    "                    tp_bf.append(bf)\n",
    "                    tp_u.append(u)\n",
    "                else:\n",
    "                    fp += 1\n",
    "                    fp_bf.append(bf)\n",
    "                    fp_u.append(u)\n",
    "            if gt==0:\n",
    "                if prediction == gt:\n",
    "                    tn += 1\n",
    "                    tn_bf.append(bf)\n",
    "                    tn_u.append(u)\n",
    "                else:\n",
    "                    fn += 1\n",
    "                    fn_bf.append(bf)\n",
    "                    fn_u.append(u)\n",
    "        else:\n",
    "            n_uncertainty += 1\n",
    "    try:\n",
    "        Precision = (tp / (fp + tp))\n",
    "        Recall = (tp / (fn + tp))\n",
    "        Accuracy = (tp + tn) / (tp + fn + tn + fp)\n",
    "        F1_Score = (2 * Precision * Recall) / (Precision  + Recall )\n",
    "    except:\n",
    "        Precision = 0\n",
    "        Recall = 0\n",
    "        Accuracy = 0\n",
    "        F1_Score = 0\n",
    "        print(\"An exception occurred\")            \n",
    "\n",
    "    Performance = {\n",
    "        \"Precision\" : Precision,\n",
    "        \"Recall\" : Recall,\n",
    "        \"Accuracy\" : Accuracy,\n",
    "        \"F1_Score\" : F1_Score,\n",
    "        \"tp\" : tp,\n",
    "        \"fp\" : fp,\n",
    "        \"tn\" : tn,\n",
    "        \"fn\" : fn,\n",
    "        \"tp_bf\" : tp_bf,\n",
    "        \"fp_bf\" : fp_bf,\n",
    "        \"tn_bf\" : tn_bf,\n",
    "        \"fn_bf\" : fn_bf,\n",
    "        \"tp_u\" : tp_u,\n",
    "        \"fp_u\" : fp_u,\n",
    "        \"tn_u\" : tn_u,\n",
    "        \"fn_u\" : fn_u,\n",
    "        \"uncertainty_mass_test_vector\": uncertainty_mass_test_vector,\n",
    "        \"belief_mass_test_vector\": belief_mass_test_vector,\n",
    "        \"total_uncertainty_mass_vector\": total_uncertainty_mass_vector,\n",
    "        \"total_belief_mass_vector\": total_belief_mass_vector,\n",
    "        \"n_uncertainty\": n_uncertainty,\n",
    "        \"pred\": pred,\n",
    "        \"y_test\": y_test,\n",
    "        \"total_prediction\": total_predition\n",
    "    }\n",
    "    return Performance"
   ]
  },
  {
   "cell_type": "code",
   "execution_count": 23,
   "id": "e7215d05",
   "metadata": {},
   "outputs": [],
   "source": [
    "def test(model, data):\n",
    "    model.eval()\n",
    "    logits = model(data.x, data.edge_index) \n",
    "    accs = []\n",
    "    for _, mask in data('train_mask', 'test_mask'):\n",
    "        pred = logits[mask].max(1)[1]\n",
    "        acc = pred.eq(data.y[mask]).sum().item() / mask.sum().item() #\n",
    "        accs.append(acc)\n",
    "    return accs\n",
    "\n",
    "\n"
   ]
  },
  {
   "cell_type": "markdown",
   "id": "b88d2be6",
   "metadata": {},
   "source": [
    "# Custom loss function\n"
   ]
  },
  {
   "cell_type": "code",
   "execution_count": 25,
   "id": "68a50989",
   "metadata": {},
   "outputs": [],
   "source": [
    "def DirichletLossFunction(output, y, epoch_num, num_classes, annealing_step, device=None):\n",
    "    evidence = relu_evidence(output)\n",
    "    alpha = evidence + 1\n",
    "    y = y.to(device)\n",
    "    alpha = alpha.to(device)\n",
    "    \n",
    "    S = torch.sum(alpha, dim=1, keepdim=True)\n",
    "    loglikelihood_err = torch.sum((y - (alpha / S)) ** 2, dim=1, keepdim=True)\n",
    "    loglikelihood_var = torch.sum(\n",
    "        alpha * (S - alpha) / (S * S * (S + 1)), dim=1, keepdim=True\n",
    "    )\n",
    "    loglikelihood = loglikelihood_err + loglikelihood_var\n",
    "    annealing_coef = torch.min(\n",
    "        torch.tensor(1.0, dtype=torch.float32),\n",
    "        torch.tensor(epoch_num / annealing_step, dtype=torch.float32),\n",
    "    )\n",
    "    kl_alpha = (alpha - 1) * (1 - y) + 1\n",
    "    kl_div = annealing_coef * KL(kl_alpha, num_classes, device=device)\n",
    "    loss = torch.mean(loglikelihood + kl_div)\n",
    "    return loss\n",
    "\n",
    "\n",
    "def KL(alpha, num_classes, device=None):\n",
    "    ones = torch.ones([1, num_classes], dtype=torch.float32, device=device)\n",
    "    sum_alpha = torch.sum(alpha, dim=1, keepdim=True)\n",
    "    first_term = (\n",
    "        torch.lgamma(sum_alpha)\n",
    "        - torch.lgamma(alpha).sum(dim=1, keepdim=True)\n",
    "        + torch.lgamma(ones).sum(dim=1, keepdim=True)\n",
    "        - torch.lgamma(ones.sum(dim=1, keepdim=True))\n",
    "    )\n",
    "    second_term = (\n",
    "        (alpha - ones)\n",
    "        .mul(torch.digamma(alpha) - torch.digamma(sum_alpha))\n",
    "        .sum(dim=1, keepdim=True)\n",
    "    )\n",
    "    kl = first_term + second_term\n",
    "    return kl\n"
   ]
  },
  {
   "cell_type": "code",
   "execution_count": 26,
   "id": "f7b74d2c",
   "metadata": {},
   "outputs": [],
   "source": [
    "def relu_evidence(y):\n",
    "    return F.relu(y)\n",
    "\n",
    "\n",
    "def exp_evidence(y):\n",
    "    return torch.exp(torch.clamp(y, -10, 10))\n",
    "\n",
    "\n",
    "def softplus_evidence(y):\n",
    "    return F.softplus(y)\n",
    "\n",
    "def one_hot_embedding(labels, num_classes=2):\n",
    "    # Convert to One Hot Encoding\n",
    "    y = torch.eye(num_classes)\n",
    "    return y[labels]\n",
    "\n",
    "\n",
    "# y = one_hot_embedding(labels, num_classes)\n",
    "#y = y.to(device)   "
   ]
  },
  {
   "cell_type": "markdown",
   "id": "aa05b213",
   "metadata": {},
   "source": [
    "# Training"
   ]
  },
  {
   "cell_type": "code",
   "execution_count": 27,
   "id": "13b80749",
   "metadata": {},
   "outputs": [],
   "source": [
    "epochs = 50\n",
    "dim = 64"
   ]
  },
  {
   "cell_type": "code",
   "execution_count": 28,
   "id": "b8146e12",
   "metadata": {},
   "outputs": [],
   "source": [
    "device = torch.device('cuda' if torch.cuda.is_available() else 'cpu')\n",
    "model = Net(num_features=train_dataset.num_features, dim=dim, num_classes=torch.max(train_dataset.y).item() + 1).to(device)\n",
    "optimizer = torch.optim.Adam(model.parameters(), lr=0.01, weight_decay=5e-3)"
   ]
  },
  {
   "cell_type": "code",
   "execution_count": 30,
   "id": "b0098c2a",
   "metadata": {
    "scrolled": true
   },
   "outputs": [
    {
     "name": "stderr",
     "output_type": "stream",
     "text": [
      "[Train_loss:0.059703 Train_acc: 0.9963, Test_acc: 0.9965]: 100%|█████████████████████████████████████████████████████████████████████████████████████████████████████████████████████████| 50/50 [00:08<00:00,  6.15it/s]\n"
     ]
    }
   ],
   "source": [
    "import torch\n",
    "import gc\n",
    "import timeit\n",
    "import time\n",
    "gc.collect()\n",
    "torch.cuda.empty_cache()\n",
    "\n",
    "\n",
    "\n",
    "num_classes=2\n",
    "t = trange(epochs, desc=\"Stats: \", position=0)\n",
    "uncertainty_mass_vector=[] \n",
    "belief_mass_vector=[]\n",
    "loss_values = []\n",
    "execution_times = []\n",
    "for epoch in t:\n",
    "\n",
    "    model.train()\n",
    "    train_dataset = train_dataset.to(device)\n",
    "    optimizer.zero_grad()\n",
    "    outputs = model(train_dataset.x, train_dataset.edge_index) \n",
    "    y = one_hot_embedding(train_dataset.y[train_dataset.train_mask], 2)\n",
    "    loss = DirichletLossFunction(output=outputs[train_dataset.train_mask], y=y, epoch_num=10, num_classes = 2, annealing_step= 2, device=device) \n",
    "    finish_time = time.time()\n",
    "    loss_values.append(loss.cpu().detach().numpy())\n",
    "    loss.backward()\n",
    "    optimizer.step()\n",
    "    \n",
    "    \n",
    "    #belief b_kand the uncertainty u \n",
    "    _, preds = torch.max(outputs, 1)\n",
    "    \n",
    "    evidence = relu_evidence(outputs)\n",
    "    alpha = evidence + 1\n",
    "    bk=evidence/ torch.sum(alpha, dim=1, keepdim=True)\n",
    "    u = num_classes / torch.sum(alpha, dim=1, keepdim=True)\n",
    "    uncertainty_mass_vector.append(u)    \n",
    "    belief_mass_vector.append(bk) \n",
    "    \n",
    "    # validate\n",
    "    train_acc, test_acc = test(model, train_dataset)\n",
    "    train_loss = loss\n",
    "    \n",
    "    t.set_description('[Train_loss:{:.6f} Train_acc: {:.4f}, Test_acc: {:.4f}]'.format(loss, train_acc, test_acc))\n",
    "   "
   ]
  },
  {
   "cell_type": "code",
   "execution_count": 31,
   "id": "56977351",
   "metadata": {},
   "outputs": [],
   "source": [
    "uncertainty_mass_vector_first_iteration = torch.Tensor.cpu(uncertainty_mass_vector[0]).detach().numpy() \n",
    "uncertainty_mass_vector_last_iteration = torch.Tensor.cpu(uncertainty_mass_vector[len(uncertainty_mass_vector)-1]).detach().numpy() \n"
   ]
  },
  {
   "cell_type": "code",
   "execution_count": 32,
   "id": "bb175284",
   "metadata": {},
   "outputs": [
    {
     "data": {
      "image/png": "[encoded data removed]",
      "text/plain": [
       "<Figure size 432x288 with 1 Axes>"
      ]
     },
     "metadata": {
      "needs_background": "light"
     },
     "output_type": "display_data"
    }
   ],
   "source": [
    "mean_positive_belief_mass=[]\n",
    "mean_negative_belief_mass=[]\n",
    "for i in range(0,len(belief_mass_vector)-1):\n",
    "    mean_positive_belief_mass.append(np.mean(torch.Tensor.cpu(belief_mass_vector[i][:,0][belief_mass_vector[i][:,0] != 0]).detach().numpy()))\n",
    "    mean_negative_belief_mass.append(np.mean(torch.Tensor.cpu(belief_mass_vector[i][:,1][belief_mass_vector[i][:,1] != 0]).detach().numpy()))\n",
    "import matplotlib.pyplot as plt\n",
    "import matplotlib as mpl\n",
    "mpl.rcParams['figure.dpi'] = 300 \n",
    "x=np.arange(0, len(mean_positive_belief_mass[0:100]), 1, dtype=int)\n",
    "\n",
    "#plt.plot(uncertainty_mass_vector_first_iteration, color='red',linewidth=0.1) \n",
    "#plt.plot(uncertainty_mass_vector_last_iteration, color='blue',linewidth=0.1)\n",
    "plt.plot(x,mean_positive_belief_mass[0:100] ,color='blue',linewidth=1, label='Belief mass for benign nodes')\n",
    "plt.plot(x,mean_negative_belief_mass[0:100] ,color='red',linewidth=1, label='Belief mass for malicious nodes')\n",
    "\n",
    "#plt.title('Dirichlet _ belief mass', fontsize=14)\n",
    "plt.title('Cross Entropy _ belief mass', fontsize=14)\n",
    "plt.xlabel('Epoch', fontsize=14)\n",
    "plt.ylabel('Belief mass', fontsize=14)\n",
    "plt.legend(loc=\"lower right\")\n",
    "ax = plt.gca()\n",
    "ax.set_ylim([0.0, 1.0])\n",
    "#ax.set_ylim([ymin, ymax])\n",
    "plt.grid(True)\n",
    "plt.show()"
   ]
  },
  {
   "cell_type": "code",
   "execution_count": 33,
   "id": "060bddfe",
   "metadata": {},
   "outputs": [
    {
     "data": {
      "image/png": "[encoded data removed]",
      "text/plain": [
       "<Figure size 1800x1200 with 1 Axes>"
      ]
     },
     "metadata": {
      "needs_background": "light"
     },
     "output_type": "display_data"
    }
   ],
   "source": [
    "mean_uncertainty_mass=[]\n",
    "for i in range(0,len(uncertainty_mass_vector)-1):\n",
    "     mean_uncertainty_mass.append(np.mean(torch.Tensor.cpu(uncertainty_mass_vector[i]).detach().numpy()))\n",
    "import matplotlib.pyplot as plt\n",
    "import matplotlib as mpl\n",
    "mpl.rcParams['figure.dpi'] = 300 \n",
    "x=np.arange(0, len(mean_uncertainty_mass[0:30]), 1, dtype=int)\n",
    "\n",
    "#plt.plot(uncertainty_mass_vector_first_iteration, color='red',linewidth=0.1) \n",
    "#plt.plot(uncertainty_mass_vector_last_iteration, color='blue',linewidth=0.1)\n",
    "plt.plot(x,mean_uncertainty_mass[0:30] ,color='green',linewidth=1)\n",
    "\n",
    "plt.title('Mean of the mass of uncertainty', fontsize=14)\n",
    "plt.xlabel('Epoch', fontsize=14)\n",
    "plt.ylabel('Mass of uncertainty', fontsize=14)\n",
    "plt.grid(False)\n",
    "plt.show()    "
   ]
  },
  {
   "cell_type": "code",
   "execution_count": 44,
   "id": "7ebfd1f9",
   "metadata": {},
   "outputs": [],
   "source": [
    "Performance = compute_performance(model, train_dataset)    "
   ]
  },
  {
   "cell_type": "code",
   "execution_count": 45,
   "id": "34c22fbf",
   "metadata": {},
   "outputs": [
    {
     "name": "stdout",
     "output_type": "stream",
     "text": [
      "[TP] 33299\t[FP] 39\n",
      "[TN] 40256\t[FN] 218\n",
      "Precision: 0.9988\n",
      "Recall: 0.9935\n",
      "Accuracy: 0.9965\n",
      "F1 Score: 0.9962\n"
     ]
    },
    {
     "data": {
      "text/plain": [
       "<Figure size 1800x1200 with 0 Axes>"
      ]
     },
     "execution_count": 45,
     "metadata": {},
     "output_type": "execute_result"
    },
    {
     "data": {
      "image/png": "[encoded data removed]",
      "text/plain": [
       "<Figure size 800x800 with 2 Axes>"
      ]
     },
     "metadata": {
      "needs_background": "light"
     },
     "output_type": "display_data"
    },
    {
     "data": {
      "text/plain": [
       "<Figure size 1800x1200 with 0 Axes>"
      ]
     },
     "metadata": {},
     "output_type": "display_data"
    }
   ],
   "source": [
    "import matplotlib.pyplot as plt\n",
    "from matplotlib.pyplot import figure\n",
    "import seaborn as sns\n",
    "from matplotlib.pyplot import figure\n",
    "\n",
    "figure(figsize=(10, 10), dpi=80)\n",
    "conf = [[Performance[\"tn\"],Performance[\"fp\"]],[Performance[\"fn\"],Performance[\"tp\"]]]\n",
    "sns.heatmap(conf,annot=True,annot_kws={\"size\": 16},fmt='g',cmap=\"Blues\")\n",
    "print('[TP] {}\\t[FP] {}'.format(Performance[\"tp\"], Performance[\"fp\"]))\n",
    "print('[TN] {}\\t[FN] {}'.format(Performance[\"tn\"], Performance[\"fn\"]))  \n",
    "print('Precision: %.4f' % Performance[\"Precision\"])\n",
    "print('Recall: %.4f' % Performance[\"Recall\"])\n",
    "print('Accuracy: %.4f' % Performance[\"Accuracy\"])\n",
    "print('F1 Score: %.4f' % Performance[\"F1_Score\"])\n",
    "plt.xlabel('Predicted Class', fontsize=14)\n",
    "plt.ylabel('True Class', fontsize=14)\n",
    "plt.figure()"
   ]
  },
  {
   "cell_type": "markdown",
   "id": "82d8f02c",
   "metadata": {},
   "source": [
    "# GNNExplainer"
   ]
  },
  {
   "cell_type": "code",
   "execution_count": null,
   "id": "040fb784",
   "metadata": {},
   "outputs": [],
   "source": [
    "from collections import defaultdict\n",
    "\n",
    "def get_malicious_devices():\n",
    "    malicious_nodes= set()\n",
    "    index=0\n",
    "    for prediction in Performance[\"total_prediction\"].tolist():\n",
    "        if prediction==1:\n",
    "            malicious_nodes.add(index) \n",
    "        index+=1    \n",
    "    #set_of_devices= set()  \n",
    "    set_of_devices = defaultdict(set)\n",
    "    for node in malicious_nodes:\n",
    "        set_of_devices[data.iloc[[node]]['IPV4_SRC_ADDR'].apply(lambda x: str(x.split(':')[0])).values[0]].add(node)\n",
    "        set_of_devices[data.iloc[[node]]['IPV4_DST_ADDR'].apply(lambda x: str(x.split(':')[0])).values[0]].add(node)\n",
    "\n",
    "        #set_of_devices.add(data.iloc[[node]]['IPV4_DST_ADDR'].apply(lambda x: str(x.split(':')[0])).values[0])   \n",
    "        #set_of_devices.add(data.iloc[[node]]['IPV4_SRC_ADDR'].apply(lambda x: str(x.split(':')[0])).values[0])\n",
    "    return set_of_devices"
   ]
  },
  {
   "cell_type": "code",
   "execution_count": null,
   "id": "7afa74d0",
   "metadata": {},
   "outputs": [],
   "source": [
    "set_of_devices=get_malicious_devices()"
   ]
  },
  {
   "cell_type": "code",
   "execution_count": null,
   "id": "ccb24224",
   "metadata": {},
   "outputs": [],
   "source": [
    "print(\"Malicious devices found by model on unlabeled nodes: \"+ str(set(set_of_devices.keys())))\n",
    "print(\"\\nGround truth of malicious devices: \"+ str(np.unique([data1[\"IPV4_SRC_ADDR\"], data1[\"IPV4_DST_ADDR\"]])))\n"
   ]
  },
  {
   "cell_type": "code",
   "execution_count": null,
   "id": "e5a46807",
   "metadata": {},
   "outputs": [],
   "source": [
    "device_target='149.171.126.12'"
   ]
  },
  {
   "cell_type": "code",
   "execution_count": null,
   "id": "ea9087b6",
   "metadata": {},
   "outputs": [],
   "source": [
    "node_idx = 131076\n",
    "x, edge_index = train_dataset.x, train_dataset.edge_index\n",
    "explainer = GNNExplainer(model, epochs=200)\n",
    "node_feat_mask, edge_mask = explainer.explain_node(node_idx, x, edge_index)"
   ]
  },
  {
   "cell_type": "code",
   "execution_count": null,
   "id": "d677665a",
   "metadata": {},
   "outputs": [],
   "source": [
    "import matplotlib.pyplot as plt\n",
    "from matplotlib.pyplot import figure\n",
    "\n",
    "figure(figsize=(10, 10), dpi=80)\n",
    "ax, G = explainer.visualize_subgraph(131076, edge_index, edge_mask, y=train_dataset.y)\n",
    "\n",
    "plt.show()"
   ]
  },
  {
   "cell_type": "code",
   "execution_count": null,
   "id": "40aa11a1",
   "metadata": {},
   "outputs": [],
   "source": [
    "data.iloc[[node_idx]]"
   ]
  },
  {
   "cell_type": "code",
   "execution_count": null,
   "id": "eeb45288",
   "metadata": {},
   "outputs": [],
   "source": [
    "print(\"Communications analyzed: \\n\"+str(data.iloc[[node_idx]]))\n",
    "print(\"Pediction: \"+str(Performance[\"total_prediction\"].tolist()[node_idx]))"
   ]
  },
  {
   "cell_type": "code",
   "execution_count": null,
   "id": "fcaebfa7",
   "metadata": {},
   "outputs": [],
   "source": [
    "print(\"The following communications are decisive for classifying the communication analyzed:\")\n",
    "for node in G.nodes:\n",
    "    print(data.iloc[[node]])\n",
    "    print(\"\\nuncertainy\"+str(Performance[\"total_uncertainty_mass_vector\"][node]))\n",
    "    print(\"belief_mass_vector\"+str(Performance[\"total_belief_mass_vector\"][node])+str(\"\\n\"))\n",
    "    \n",
    "print(\"\\n\\nThe devices strongly connected to the communication analyzed are the following:\")\n",
    "set_of_devices= set()\n",
    "for node in G.nodes:\n",
    "    set_of_devices.add(data.iloc[[node]]['IPV4_DST_ADDR'].apply(lambda x: str(x.split(':')[0])).values[0])\n",
    "\n",
    "for device in set_of_devices:\n",
    "    print(str(device))"
   ]
  }
 ],
 "metadata": {
  "kernelspec": {
   "display_name": "Python 3 (ipykernel)",
   "language": "python",
   "name": "python3"
  },
  "language_info": {
   "codemirror_mode": {
    "name": "ipython",
    "version": 3
   },
   "file_extension": ".py",
   "mimetype": "text/x-python",
   "name": "python",
   "nbconvert_exporter": "python",
   "pygments_lexer": "ipython3",
   "version": "3.9.13"
  }
 },
 "nbformat": 4,
 "nbformat_minor": 5
}
